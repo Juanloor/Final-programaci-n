# Logic Regression
y_pred = clf_RL.predict(X_test)
print(classification_report(y_test, y_pred))

# Curva ROC
le = LabelEncoder()
y_train_encoded = le.fit_transform(y_train)  
y_test_encoded = le.transform(y_test)

y_pred = clf_RL.predict(X_test)
print(classification_report(y_test, y_pred))

y_proba = clf_RL.predict_proba(X_test)[:, 1]
fpr, tpr, thresholds = roc_curve(y_test_encoded, y_proba)
auc = roc_auc_score(y_test_encoded, y_proba)

plt.figure(figsize=(6, 5))
plt.plot(fpr, tpr, label=f'AUC = {auc:.2f}', color='darkorange')
plt.plot([0, 1], [0, 1], 'k--', label='Aleatorio')
plt.xlabel('Falsos positivos')
plt.ylabel('Verdaderos positivos')
plt.title('Curva ROC')
plt.legend()
plt.grid(True)
plt.tight_layout()
plt.show()

# Curva de Aprendizaje 
train_sizes, train_scores, test_scores = learning_curve(
    best_log_reg, X_train, y_train, cv=5, n_jobs=-1, train_sizes=np.linspace(0.1, 1.0, 5)
)
train_scores_mean = train_scores.mean(axis=1)
test_scores_mean = test_scores.mean(axis=1)

plt.figure(figsize=(6, 4))
plt.plot(train_sizes, train_scores_mean, label="Entrenamiento")
plt.plot(train_sizes, test_scores_mean, label="Validación")
plt.title("Curvas de Aprendizaje")
plt.xlabel("Tamaño del conjunto de entrenamiento")
plt.ylabel("Precisión")
plt.legend()
plt.grid(True)
plt.tight_layout()
plt.savefig("modelo1_learning_curve.png")
plt.show()

# Matriz de confusión
y_pred = best_log_reg.predict(X_test)
cm = confusion_matrix(y_test, y_pred)
print("Matriz de confusión:\n", cm)
print("\nReporte de clasificación:\n", classification_report(y_test, y_pred))
print("\nPrecisión total:", accuracy_score(y_test, y_pred))

plt.figure(figsize=(6, 4))
sns.heatmap(cm, annot=True, fmt='d', cmap='Blues')
plt.title("Matriz de Confusión")
plt.xlabel("Predicción")
plt.ylabel("Real")
plt.tight_layout()
plt.savefig("modelo1_confusion_matrix.png")
plt.show()
