y_pred = clf_RL.predict(X_test)
print(classification_report(y_test, y_pred))

# Curva ROC
y_proba = clf_RL.predict_proba(X_test)[:, 1]
fpr, tpr, thresholds = roc_curve(y_test_encoded, y_proba)
auc = roc_auc_score(y_test_encoded, y_proba)

plt.figure(figsize=(6, 5))
plt.plot(fpr, tpr, label=f'AUC = {auc:.2f}', color='darkorange')
plt.plot([0, 1], [0, 1], 'k--', label='Aleatorio')
plt.title('Curva ROC')
plt.legend()
plt.show()

# Matriz de confusión
cm = confusion_matrix(y_test, y_pred, labels=['venenoso', 'comestible'])
disp = ConfusionMatrixDisplay(confusion_matrix=cm,
                              display_labels=['venenoso', 'comestible'])
disp.plot()
