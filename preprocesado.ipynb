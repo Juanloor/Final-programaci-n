import numpy as np
df_missing = df.copy()
mask = np.random.rand(*df_missing.iloc[:, :-1].shape) < 0.05  
df_missing.iloc[:, :-1] = df_missing.iloc[:, :-1].mask(mask)

df_missing.describe()
df_missing.isnull().sum()

df2 = df.iloc[:-2754].reset_index(drop=True)
df2.describe()

from sklearn.preprocessing import LabelEncoder as Le
for col in df2.columns:
    encoder = Le()
    df2[col] = encoder.fit_transform(df2[col])

scaler = StandardScaler()
X_standard = scaler.fit_transform(df2.iloc[:, :-1])  # Only scale features, not target

df_X = pd.DataFrame(X_standard, columns=df2.columns[:-1], index=df2.index)

df_X.describe()

y = df2['target']

X_train, X_test, y_train, y_test = train_test_split(X_standard, y, stratify=y, test_size=0.2, random_state=42)
print(df2.head())
