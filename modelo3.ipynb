# KNN
y_pred_knn = clf_KNN.predict(X_test)
print(classification_report(y_test, y_pred_knn))

# Curva ROC
if hasattr(clf_KNN, "predict_proba"):
    y_proba_knn = clf_KNN.predict_proba(X_test)[:, 1]
    fpr_knn, tpr_knn, _ = roc_curve(y_test_encoded, y_proba_knn)
    auc_knn = roc_auc_score(y_test_encoded, y_proba_knn)

    plt.figure()
    plt.plot(fpr_knn, tpr_knn, label=f'AUC KNN = {auc_knn:.2f}', color='purple')
    plt.plot([0, 1], [0, 1], 'k--')
    plt.title('ROC Curve - KNN')
    plt.legend()
    plt.show()

# Matriz de confusión
cm_knn = confusion_matrix(y_test, y_pred_knn, labels=['venenoso', 'comestible'])
disp_knn = ConfusionMatrixDisplay(confusion_matrix=cm_knn,
                                  display_labels=['venenoso', 'comestible'])
disp_knn.plot()
plt.title("Matriz de confusión - KNN")
plt.show()
