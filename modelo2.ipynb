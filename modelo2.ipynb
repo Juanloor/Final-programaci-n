# Random forest
y_pred_rf = clf_RF.predict(X_test)
print(classification_report(y_test, y_pred_rf))

y_proba_rf = clf_RF.predict_proba(X_test)[:, 1]
fpr_rf, tpr_rf, _ = roc_curve(y_test_encoded, y_proba_rf)
auc_rf = roc_auc_score(y_test_encoded, y_proba_rf)

plt.figure()
plt.plot(fpr_rf, tpr_rf, label=f'AUC RF = {auc_rf:.2f}', color='green')
plt.plot([0, 1], [0, 1], 'k--')
plt.title('ROC Curve - Random Forest')
plt.legend()
plt.show()

cm_rf = confusion_matrix(y_test, y_pred_rf, labels=['venenoso', 'comestible'])
disp_rf = ConfusionMatrixDisplay(confusion_matrix=cm_rf,
                                 display_labels=['venenoso', 'comestible'])
disp_rf.plot()
plt.title("Matriz de confusión - Random Forest")
plt.show()
