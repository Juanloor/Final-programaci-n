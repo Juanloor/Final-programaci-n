# Random forest
y_pred_rf = clf_RF.predict(X_test)
print(classification_report(y_test, y_pred_rf))

# Curva ROC
y_proba_rf = clf_RF.predict_proba(X_test)[:, 1]
fpr_rf, tpr_rf, _ = roc_curve(y_test_encoded, y_proba_rf)
auc_rf = roc_auc_score(y_test_encoded, y_proba_rf)

plt.figure()
plt.plot(fpr_rf, tpr_rf, label=f'AUC RF = {auc_rf:.2f}', color='green')
plt.plot([0, 1], [0, 1], 'k--')
plt.title('ROC Curve - Random Forest')
plt.legend()
plt.show()

# Matriz de confusión
y_pred = grid.best_estimator_.predict(X_test)
cm = confusion_matrix(y_test, y_pred)
print("Matriz de confusión:\n", cm)
print("\nReporte de clasificación:\n", classification_report(y_test, y_pred))
print("\nPrecisión total:", accuracy_score(y_test, y_pred))

plt.figure(figsize=(6, 4))
sns.heatmap(cm, annot=True, fmt='d', cmap='Blues')
plt.title("Matriz de Confusión")
plt.xlabel("Predicción")
plt.ylabel("Real")
plt.tight_layout()
plt.savefig("modelo1_confusion_matrix.png")
plt.show()
