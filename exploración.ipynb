import numpy as np
import matplotlib.pyplot as plt
import seaborn as sns
from scipy.stats import norm
from math import sqrt, ceil


from sklearn.datasets import load_breast_cancer
from sklearn.metrics import accuracy_score, precision_score, recall_score, f1_score, confusion_matrix
from sklearn.metrics import classification_report, roc_curve, roc_auc_score, ConfusionMatrixDisplay
from sklearn.impute import SimpleImputer, KNNImputer
from sklearn.preprocessing import StandardScaler, MinMaxScaler, RobustScaler, LabelEncoder
from sklearn.model_selection import train_test_split, cross_val_score, StratifiedKFold

# Regresión logística
from sklearn.linear_model import LogisticRegression

# Árboles de decisión
from sklearn.tree import DecisionTreeClassifier

# K-Nearest Neighbors (KNN)
from sklearn.neighbors import KNeighborsClassifier

# Máquinas de vectores de soporte (SVM)
from sklearn.svm import SVC

# Random Forest
from sklearn.ensemble import RandomForestClassifier

import pandas as pd
from ucimlrepo import fetch_ucirepo

data = fetch_ucirepo(id =73)
X = data.data.features 
y = data.data.targets 

df = pd.DataFrame(X, columns=data.data.feature_names)
df['target'] = y
df

import matplotlib.pyplot as plt
label_map = {'p': 'venenoso', 'e': 'comestible'}
df_labels = df['target'].map(label_map)


counts = df_labels.value_counts()
proportions = counts / counts.sum()

# Crear gráfico
fig, ax = plt.subplots()
bars = ax.bar(proportions.index, proportions.values, color=['#EA3829', '#008F5D'])

# Agregar porcentajes 
for bar in bars:
    height = bar.get_height()
    ax.text(bar.get_x() + bar.get_width()/2, height + 0.01,
            f'{height:.1%}', ha='center', va='bottom', fontsize=12)

# Apariencia 
ax.set_title('Proporción de clases')
ax.set_ylabel('Proporción')
plt.grid(axis='y')
plt.ylim(0, 1.1)
plt.show()

df.info()
